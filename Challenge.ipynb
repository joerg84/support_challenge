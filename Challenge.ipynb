{
 "cells": [
  {
   "cell_type": "markdown",
   "source": [
    "![arangodb](https://github.com/arangodb/interactive_tutorials/blob/master/notebooks/img/ArangoDB_logo.png?raw=1)"
   ],
   "metadata": {}
  },
  {
   "cell_type": "markdown",
   "source": [
    "# AQL Tutorial Part 2"
   ],
   "metadata": {}
  },
  {
   "cell_type": "markdown",
   "source": [
    "<a href=\"https://colab.research.google.com/github/joerg84/support_challenge/blob/master/Challenge.ipynb\" target=\"_parent\"><img src=\"https://colab.research.google.com/assets/colab-badge.svg\" alt=\"Open In Colab\"/></a>"
   ],
   "metadata": {}
  },
  {
   "cell_type": "markdown",
   "source": [
    "In the [first part of this tutorial](https://colab.research.google.com/github/joerg84/ArangoDBUniversity/blob/master/AqlCrudTutorial.ipynb) we have looked at basic CRUD queries. In this second part, we will look at some more advanced AQL features:\n",
    "\n",
    "* Filtering \n",
    "* Sorting\n",
    "* Limiting\n",
    "\n",
    "\n",
    "Recall, that in addition to the python interface, you can interact with ArangoDB using its web interface to manage collections and execute the queries."
   ],
   "metadata": {}
  },
  {
   "cell_type": "markdown",
   "source": [
    "# Setup "
   ],
   "metadata": {}
  },
  {
   "cell_type": "markdown",
   "source": [
    "Before getting started with ArangoDB we need to prepare our environment and create a temporary database on ArangoDB's managed Service Oasis."
   ],
   "metadata": {}
  },
  {
   "cell_type": "code",
   "execution_count": null,
   "source": [
    "%%capture\r\n",
    "!git clone -b oasis_connector --single-branch https://github.com/arangodb/interactive_tutorials.git\r\n",
    "!rsync -av interactive_tutorials/ ./ --exclude=.git\r\n",
    "!pip3 install pyarango\r\n",
    "!pip3 install \"python-arango>=5.0\""
   ],
   "outputs": [],
   "metadata": {}
  },
  {
   "cell_type": "code",
   "execution_count": null,
   "source": [
    "import json\r\n",
    "import requests\r\n",
    "import sys\r\n",
    "import oasis\r\n",
    "import time\r\n",
    "\r\n",
    "from pyArango.connection import *\r\n",
    "from arango import ArangoClient"
   ],
   "outputs": [],
   "metadata": {}
  },
  {
   "cell_type": "markdown",
   "source": [
    "Create the temporary database:"
   ],
   "metadata": {}
  },
  {
   "cell_type": "code",
   "execution_count": null,
   "source": [
    "# Retrieve tmp credentials from ArangoDB Tutorial Service\r\n",
    "login = oasis.getTempCredentials(tutorialName=\"AqlPart2Tutorial\", credentialProvider='https://tutorials.arangodb.cloud:8529/_db/_system/tutorialDB/tutorialDB')\r\n",
    "\r\n",
    "# Connect to the temp database\r\n",
    "conn = oasis.connect(login)\r\n",
    "db = conn[login[\"dbName\"]] "
   ],
   "outputs": [],
   "metadata": {}
  },
  {
   "cell_type": "code",
   "execution_count": null,
   "source": [
    "print(\"https://{}:{}\".format(login[\"hostname\"], login[\"port\"]))\r\n",
    "print(\"Username: \" + login[\"username\"])\r\n",
    "print(\"Password: \" + login[\"password\"])\r\n",
    "print(\"Database: \" + login[\"dbName\"])"
   ],
   "outputs": [],
   "metadata": {}
  },
  {
   "cell_type": "markdown",
   "source": [
    "Feel free to use to above URL to checkout the UI!"
   ],
   "metadata": {}
  },
  {
   "cell_type": "markdown",
   "source": [
    "##  Import Data"
   ],
   "metadata": {}
  },
  {
   "cell_type": "markdown",
   "source": [
    "We will work with the same dataset as in the [first part of this tutorial](https://colab.research.google.com/github/joerg84/ArangoDBUniversity/blob/master/AqlCrudTutorial.ipynb). So let us quickly import that into our temporary database. "
   ],
   "metadata": {}
  },
  {
   "cell_type": "code",
   "execution_count": null,
   "source": [
    "# Create the Characters Collection \r\n",
    "db.createCollection(name=\"Characters\")"
   ],
   "outputs": [],
   "metadata": {}
  },
  {
   "cell_type": "code",
   "execution_count": null,
   "source": [
    "insert_query = \"\"\"\r\n",
    "LET data = [\r\n",
    "    { \"name\": \"Ned\", \"surname\": \"Stark\", \"alive\": true, \"age\": 41, \"traits\": [\"A\",\"H\",\"C\",\"N\",\"P\"] },\r\n",
    "    { \"name\": \"Robert\", \"surname\": \"Baratheon\", \"alive\": false, \"traits\": [\"A\",\"H\",\"C\"] },\r\n",
    "    { \"name\": \"Jaime\", \"surname\": \"Lannister\", \"alive\": true, \"age\": 36, \"traits\": [\"A\",\"F\",\"B\"] },\r\n",
    "    { \"name\": \"Catelyn\", \"surname\": \"Stark\", \"alive\": false, \"age\": 40, \"traits\": [\"D\",\"H\",\"C\"] },\r\n",
    "    { \"name\": \"Cersei\", \"surname\": \"Lannister\", \"alive\": true, \"age\": 36, \"traits\": [\"H\",\"E\",\"F\"] },\r\n",
    "    { \"name\": \"Daenerys\", \"surname\": \"Targaryen\", \"alive\": true, \"age\": 16, \"traits\": [\"D\",\"H\",\"C\"] },\r\n",
    "    { \"name\": \"Jorah\", \"surname\": \"Mormont\", \"alive\": false, \"traits\": [\"A\",\"B\",\"C\",\"F\"] },\r\n",
    "    { \"name\": \"Petyr\", \"surname\": \"Baelish\", \"alive\": false, \"traits\": [\"E\",\"G\",\"F\"] },\r\n",
    "    { \"name\": \"Viserys\", \"surname\": \"Targaryen\", \"alive\": false, \"traits\": [\"O\",\"L\",\"N\"] },\r\n",
    "    { \"name\": \"Jon\", \"surname\": \"Snow\", \"alive\": true, \"age\": 16, \"traits\": [\"A\",\"B\",\"C\",\"F\"] },\r\n",
    "    { \"name\": \"Sansa\", \"surname\": \"Stark\", \"alive\": true, \"age\": 13, \"traits\": [\"D\",\"I\",\"J\"] },\r\n",
    "    { \"name\": \"Arya\", \"surname\": \"Stark\", \"alive\": true, \"age\": 11, \"traits\": [\"C\",\"K\",\"L\"] },\r\n",
    "    { \"name\": \"Robb\", \"surname\": \"Stark\", \"alive\": false, \"traits\": [\"A\",\"B\",\"C\",\"K\"] },\r\n",
    "    { \"name\": \"Theon\", \"surname\": \"Greyjoy\", \"alive\": true, \"age\": 16, \"traits\": [\"E\",\"R\",\"K\"] },\r\n",
    "    { \"name\": \"Bran\", \"surname\": \"Stark\", \"alive\": true, \"age\": 10, \"traits\": [\"L\",\"J\"] },\r\n",
    "    { \"name\": \"Joffrey\", \"surname\": \"Baratheon\", \"alive\": false, \"age\": 19, \"traits\": [\"I\",\"L\",\"O\"] },\r\n",
    "    { \"name\": \"Sandor\", \"surname\": \"Clegane\", \"alive\": true, \"traits\": [\"A\",\"P\",\"K\",\"F\"] },\r\n",
    "    { \"name\": \"Tyrion\", \"surname\": \"Lannister\", \"alive\": true, \"age\": 32, \"traits\": [\"F\",\"K\",\"M\",\"N\"] },\r\n",
    "    { \"name\": \"Khal\", \"surname\": \"Drogo\", \"alive\": false, \"traits\": [\"A\",\"C\",\"O\",\"P\"] },\r\n",
    "    { \"name\": \"Tywin\", \"surname\": \"Lannister\", \"alive\": false, \"traits\": [\"O\",\"M\",\"H\",\"F\"] },\r\n",
    "    { \"name\": \"Davos\", \"surname\": \"Seaworth\", \"alive\": true, \"age\": 49, \"traits\": [\"C\",\"K\",\"P\",\"F\"] },\r\n",
    "    { \"name\": \"Samwell\", \"surname\": \"Tarly\", \"alive\": true, \"age\": 17, \"traits\": [\"C\",\"L\",\"I\"] },\r\n",
    "    { \"name\": \"Stannis\", \"surname\": \"Baratheon\", \"alive\": false, \"traits\": [\"H\",\"O\",\"P\",\"M\"] },\r\n",
    "    { \"name\": \"Melisandre\", \"alive\": true, \"traits\": [\"G\",\"E\",\"H\"] },\r\n",
    "    { \"name\": \"Margaery\", \"surname\": \"Tyrell\", \"alive\": false, \"traits\": [\"M\",\"D\",\"B\"] },\r\n",
    "    { \"name\": \"Jeor\", \"surname\": \"Mormont\", \"alive\": false, \"traits\": [\"C\",\"H\",\"M\",\"P\"] },\r\n",
    "    { \"name\": \"Bronn\", \"alive\": true, \"traits\": [\"K\",\"E\",\"C\"] },\r\n",
    "    { \"name\": \"Varys\", \"alive\": true, \"traits\": [\"M\",\"F\",\"N\",\"E\"] },\r\n",
    "    { \"name\": \"Shae\", \"alive\": false, \"traits\": [\"M\",\"D\",\"G\"] },\r\n",
    "    { \"name\": \"Talisa\", \"surname\": \"Maegyr\", \"alive\": false, \"traits\": [\"D\",\"C\",\"B\"] },\r\n",
    "    { \"name\": \"Gendry\", \"alive\": false, \"traits\": [\"K\",\"C\",\"A\"] },\r\n",
    "    { \"name\": \"Ygritte\", \"alive\": false, \"traits\": [\"A\",\"P\",\"K\"] },\r\n",
    "    { \"name\": \"Tormund\", \"surname\": \"Giantsbane\", \"alive\": true, \"traits\": [\"C\",\"P\",\"A\",\"I\"] },\r\n",
    "    { \"name\": \"Gilly\", \"alive\": true, \"traits\": [\"L\",\"J\"] },\r\n",
    "    { \"name\": \"Brienne\", \"surname\": \"Tarth\", \"alive\": true, \"age\": 32, \"traits\": [\"P\",\"C\",\"A\",\"K\"] },\r\n",
    "    { \"name\": \"Ramsay\", \"surname\": \"Bolton\", \"alive\": true, \"traits\": [\"E\",\"O\",\"G\",\"A\"] },\r\n",
    "    { \"name\": \"Ellaria\", \"surname\": \"Sand\", \"alive\": true, \"traits\": [\"P\",\"O\",\"A\",\"E\"] },\r\n",
    "    { \"name\": \"Daario\", \"surname\": \"Naharis\", \"alive\": true, \"traits\": [\"K\",\"P\",\"A\"] },\r\n",
    "    { \"name\": \"Missandei\", \"alive\": true, \"traits\": [\"D\",\"L\",\"C\",\"M\"] },\r\n",
    "    { \"name\": \"Tommen\", \"surname\": \"Baratheon\", \"alive\": true, \"traits\": [\"I\",\"L\",\"B\"] },\r\n",
    "    { \"name\": \"Jaqen\", \"surname\": \"H'ghar\", \"alive\": true, \"traits\": [\"H\",\"F\",\"K\"] },\r\n",
    "    { \"name\": \"Roose\", \"surname\": \"Bolton\", \"alive\": true, \"traits\": [\"H\",\"E\",\"F\",\"A\"] },\r\n",
    "    { \"name\": \"The High Sparrow\", \"alive\": true, \"traits\": [\"H\",\"M\",\"F\",\"O\"] }\r\n",
    "]\r\n",
    "\r\n",
    "FOR d IN data\r\n",
    "    INSERT d INTO Characters\r\n",
    "\"\"\"\r\n",
    "\r\n",
    "db.AQLQuery(insert_query)"
   ],
   "outputs": [],
   "metadata": {}
  },
  {
   "cell_type": "markdown",
   "source": [
    "As before let us check the `Characters` collection:"
   ],
   "metadata": {}
  },
  {
   "cell_type": "code",
   "execution_count": null,
   "source": [
    "all_characters_names = \"\"\"\r\n",
    "FOR c IN Character\r\n",
    "    RETURN c\r\n",
    "\"\"\"\r\n",
    "\r\n",
    "query_result = db.AQLQuery(all_characters_names, rawResults=True)\r\n",
    "for doc in  query_result:\r\n",
    "    print(doc)\r\n",
    "    print()"
   ],
   "outputs": [],
   "metadata": {}
  },
  {
   "cell_type": "markdown",
   "source": [
    "# Filter"
   ],
   "metadata": {}
  },
  {
   "cell_type": "markdown",
   "source": [
    "To find documents that fulfill certain criteria more complex than key equality, there is the FILTER operation in AQL, which enables us to formulate arbitrary conditions for documents to match.\n",
    "We actually have used a filter condition before to find `Ned`:"
   ],
   "metadata": {}
  },
  {
   "cell_type": "code",
   "execution_count": null,
   "source": [
    "find_ned_query = \"\"\"\r\n",
    "FOR c IN Characters\r\n",
    "    FILTER c.firstname == \"Ned\"\r\n",
    "    RETURN c\r\n",
    "\"\"\"\r\n",
    "query_result = db.AQLQuery(find_ned_query, rawResults=True)\r\n",
    "for doc in  query_result:\r\n",
    "    print(doc)\r\n",
    "    print()"
   ],
   "outputs": [],
   "metadata": {}
  },
  {
   "cell_type": "markdown",
   "source": [
    "The filter condition reads like: “the attribute name of a character document must be equal to the string Ned”. If the condition applies, character document gets returned. This works with any attribute likewise:"
   ],
   "metadata": {}
  },
  {
   "cell_type": "code",
   "execution_count": null,
   "source": [
    "find_ned_query = \"\"\"\r\n",
    "FOR c IN Characters\r\n",
    "    FILTER c.surname == \"Stark\"\r\n",
    "    RETURN c\r\n",
    "\"\"\"\r\n",
    "query_result = db.AQLQuery(find_ned_query, rawResults=True)\r\n",
    "for doc in  query_result:\r\n",
    "    print(doc)\r\n",
    "    print()"
   ],
   "outputs": [],
   "metadata": {}
  },
  {
   "cell_type": "markdown",
   "source": [
    "## Range conditions\n",
    "Strict equality is one possible condition we can state. There are plenty of other conditions we can formulate however. For example, we could ask for all young characters:"
   ],
   "metadata": {}
  },
  {
   "cell_type": "code",
   "execution_count": null,
   "source": [
    "find_adults_query = \"\"\"\r\n",
    "FOR c IN Characters\r\n",
    "    FILTER c.age >= 13\r\n",
    "    RETURN c.name\r\n",
    "\"\"\"\r\n",
    "query_result = db.AQLQuery(find_adults_query, rawResults=True)\r\n",
    "for doc in  query_result:\r\n",
    "    print(doc)\r\n",
    "    print()"
   ],
   "outputs": [],
   "metadata": {}
  },
  {
   "cell_type": "markdown",
   "source": [
    "The operator >= stands for greater-or-equal, so every character of age 13 or older is returned (only their name in the example). We can return names and age of all characters younger than 13 by changing the operator to less-than and using the object syntax to define a subset of attributes to return:"
   ],
   "metadata": {}
  },
  {
   "cell_type": "code",
   "execution_count": null,
   "source": [
    "find_young_query = \"\"\"\r\n",
    "FOR c IN Characters\r\n",
    "    FILTER c.age < 13\r\n",
    "    RETURN { name: c.name, age: c.age }\r\n",
    "\"\"\"\r\n",
    "query_result = db.AQLQuery(find_young_query, rawResults=True)\r\n",
    "for doc in  query_result:\r\n",
    "    print(doc)\r\n",
    "    print()   "
   ],
   "outputs": [],
   "metadata": {}
  },
  {
   "cell_type": "markdown",
   "source": [
    "You may notice that it returns name and age of 30 characters, most with an age of null. The reason for this is, that null is the fallback value if an attribute is requested by the query, but no such attribute exists in the document, and the null is compares to numbers as lower (see [Type and value order](https://www.arangodb.com/docs/stable/aql/fundamentals-type-value-order.html)). Hence, it accidentally fulfills the age criterion c.age < 13 (null < 13). To not let documents pass the filter without an age attribute, we can add a second criterion:"
   ],
   "metadata": {}
  },
  {
   "cell_type": "code",
   "execution_count": null,
   "source": [
    "find_young_query = \"\"\"\r\n",
    "FOR c IN Characters\r\n",
    "    FILTER c.age < 13\r\n",
    "    FILTER c.age != null\r\n",
    "    RETURN { name: c.name, age: c.age }\r\n",
    "\"\"\"\r\n",
    "query_result = db.AQLQuery(find_young_query, rawResults=True)\r\n",
    "for doc in  query_result:\r\n",
    "    print(doc)\r\n",
    "    print()   "
   ],
   "outputs": [],
   "metadata": {}
  },
  {
   "cell_type": "markdown",
   "source": [
    "This could equally be written with a boolean AND operator as:"
   ],
   "metadata": {}
  },
  {
   "cell_type": "code",
   "execution_count": null,
   "source": [
    "find_young_query = \"\"\"\r\n",
    "FOR c IN Characters\r\n",
    "    FILTER c.age < 13 AND c.age != null\r\n",
    "    RETURN { name: c.name, age: c.age }\r\n",
    "\"\"\"\r\n",
    "query_result = db.AQLQuery(find_young_query, rawResults=True)\r\n",
    "for doc in  query_result:\r\n",
    "    print(doc)\r\n",
    "    print()  "
   ],
   "outputs": [],
   "metadata": {}
  },
  {
   "cell_type": "markdown",
   "source": [
    "If you want documents to fulfill one or another condition, possibly for different attributes as well, use OR:"
   ],
   "metadata": {}
  },
  {
   "cell_type": "code",
   "execution_count": null,
   "source": [
    "find_joffrey_query = \"\"\"\r\n",
    "FOR c IN Characters\r\n",
    "    FILTER c.name == \"Jon\" OR c.name == \"Joffrey\"\r\n",
    "    RETURN { name: c.name, surname: c.surname }\r\n",
    "\"\"\"\r\n",
    "query_result = db.AQLQuery(find_joffrey_query, rawResults=True)\r\n",
    "for doc in  query_result:\r\n",
    "    print(doc)\r\n",
    "    print()  "
   ],
   "outputs": [],
   "metadata": {}
  },
  {
   "cell_type": "markdown",
   "source": [
    "To learn more about Filter Operation check the [documentation](https://www.arangodb.com/docs/stable/aql/operations-filter.html)."
   ],
   "metadata": {}
  },
  {
   "cell_type": "markdown",
   "source": [
    "# Sorting"
   ],
   "metadata": {}
  },
  {
   "cell_type": "code",
   "execution_count": null,
   "source": [
    "all_characters_names = \"\"\"\r\n",
    "FOR c IN Characters\r\n",
    "    RETURN c.name\r\n",
    "\"\"\"\r\n",
    "\r\n",
    "query_result = db.AQLQuery(all_characters_names, rawResults=True)\r\n",
    "for doc in  query_result:\r\n",
    "    print(doc)\r\n",
    "    print()"
   ],
   "outputs": [],
   "metadata": {}
  },
  {
   "cell_type": "markdown",
   "source": [
    "If we recall the above query, the order in which records were returned by the queries shown until is basically random. To return them in a defined order, we can add a SORT() operation."
   ],
   "metadata": {}
  },
  {
   "cell_type": "code",
   "execution_count": null,
   "source": [
    "all_characters_names = \"\"\"\r\n",
    "FOR c IN Characters\r\n",
    "    SORT c.name\r\n",
    "    RETURN c.name\r\n",
    "\"\"\"\r\n",
    "\r\n",
    "query_result = db.AQLQuery(all_characters_names, rawResults=True)\r\n",
    "for doc in  query_result:\r\n",
    "    print(doc)\r\n",
    "    print()"
   ],
   "outputs": [],
   "metadata": {}
  },
  {
   "cell_type": "markdown",
   "source": [
    "See how it sorted by name, then returned the ten alphabetically first coming names. We can reverse the sort order with DESC like descending:"
   ],
   "metadata": {}
  },
  {
   "cell_type": "code",
   "execution_count": null,
   "source": [
    "all_characters_names = \"\"\"\r\n",
    "FOR c IN Characters\r\n",
    "    SORT c.name DESC\r\n",
    "    RETURN c.name\r\n",
    "\"\"\"\r\n",
    "\r\n",
    "query_result = db.AQLQuery(all_characters_names, rawResults=True)\r\n",
    "for doc in  query_result:\r\n",
    "    print(doc)\r\n",
    "    print()"
   ],
   "outputs": [],
   "metadata": {}
  },
  {
   "cell_type": "markdown",
   "source": [
    "The first sort was ascending, which is the default order. Because it is the default, it is not required to explicitly ask for ASC order."
   ],
   "metadata": {}
  },
  {
   "cell_type": "markdown",
   "source": [
    "## Sort by multiple attributes\n",
    "Assume we want to sort by surname. Many of the characters share a surname. The result order among characters with the same surname is undefined. We can first sort by surname, then name to determine the order:\n",
    "\n"
   ],
   "metadata": {}
  },
  {
   "cell_type": "code",
   "execution_count": null,
   "source": [
    "all_characters_names = \"\"\"\r\n",
    "FOR c IN Characters\r\n",
    "    FILTER c.surname\r\n",
    "    SORT c.surname, c.name\r\n",
    "    LIMIT 10\r\n",
    "    RETURN {\r\n",
    "        surname: c.surname,\r\n",
    "        name: c.name\r\n",
    "    }\r\n",
    "\"\"\"\r\n",
    "\r\n",
    "query_result = db.AQLQuery(all_characters_names, rawResults=True)\r\n",
    "for doc in  query_result:\r\n",
    "    print(doc)\r\n",
    "    print()"
   ],
   "outputs": [],
   "metadata": {}
  },
  {
   "cell_type": "markdown",
   "source": [
    "Overall, the documents are sorted by last name. If the surname is the same for two characters, the name values are compared and the result sorted.\n",
    "\n"
   ],
   "metadata": {}
  },
  {
   "cell_type": "markdown",
   "source": [
    "# Limiting"
   ],
   "metadata": {}
  },
  {
   "cell_type": "markdown",
   "source": [
    "It may not always be necessary to return all documents, that a FOR loop would normally return. In those cases, we can limit the amount of documents with a LIMIT() operation:"
   ],
   "metadata": {}
  },
  {
   "cell_type": "code",
   "execution_count": null,
   "source": [
    "sample_chars_query = \"\"\"\r\n",
    "FOR c IN Characters\r\n",
    "    SORT c.name\r\n",
    "    LIMIT 5\r\n",
    "    RETURN c.name\r\n",
    "\"\"\"\r\n",
    "query_result = db.AQLQuery(sample_chars_query, rawResults=True)\r\n",
    "for doc in  query_result:\r\n",
    "    print(doc)\r\n",
    "    print()  "
   ],
   "outputs": [],
   "metadata": {}
  },
  {
   "cell_type": "markdown",
   "source": [
    "LIMIT is followed by a number for the maximum document count. There is a second syntax however, which allows you to skip a certain amount of record and return the next n documents:"
   ],
   "metadata": {}
  },
  {
   "cell_type": "code",
   "execution_count": null,
   "source": [
    "sample_chars_query = \"\"\"\r\n",
    "FOR c IN Characters\r\n",
    "    SORT c.name\r\n",
    "    LIMIT 2, 5\r\n",
    "    RETURN c.name\r\n",
    "\"\"\"\r\n",
    "query_result = db.AQLQuery(sample_chars_query, rawResults=True)\r\n",
    "for doc in  query_result:\r\n",
    "    print(doc)\r\n",
    "    print()  "
   ],
   "outputs": [],
   "metadata": {}
  },
  {
   "cell_type": "markdown",
   "source": [
    "# Sort and Limit Combined"
   ],
   "metadata": {}
  },
  {
   "cell_type": "markdown",
   "source": [
    "The order can also be determined by a numeric value, such as the age:\n",
    "A filter is applied to avoid documents without age attribute. The remaining documents are sorted by age in ascending order, and the name and age of the ten youngest characters are returned."
   ],
   "metadata": {}
  },
  {
   "cell_type": "code",
   "execution_count": null,
   "source": [
    "sample_chars_query = \"\"\"\r\n",
    "FOR c IN Characters\r\n",
    "    FILTER c.age\r\n",
    "    SORT c.age\r\n",
    "    LIMIT 10\r\n",
    "    RETURN {\r\n",
    "        name: c.name,\r\n",
    "        age: c.age\r\n",
    "    }\r\n",
    "\"\"\"\r\n",
    "query_result = db.AQLQuery(sample_chars_query, rawResults=True)\r\n",
    "for doc in  query_result:\r\n",
    "    print(doc)\r\n",
    "    print()  "
   ],
   "outputs": [],
   "metadata": {}
  },
  {
   "cell_type": "markdown",
   "source": [
    "Please, refer to the documentation for [SORT operation](https://www.arangodb.com/docs/stable/aql/operations-sort.html) and [LIMIT operation](https://www.arangodb.com/docs/stable/aql/operations-limit.html)  for more details.\n"
   ],
   "metadata": {}
  },
  {
   "cell_type": "markdown",
   "source": [
    "# Next Steps"
   ],
   "metadata": {}
  },
  {
   "cell_type": "markdown",
   "source": [
    "To continue playing and working with ArangoDB beyond the temporary database, you can:\n",
    "\n",
    "* [Get a 2 week free Trial with the ArangoDB Cloud](https://cloud.arangodb.com/home?utm_source=AQLPart2&utm_medium=Github&utm_campaign=ArangoDB%20University)\n",
    "* [Download ArangoDB](https://www.arangodb.com/download-major/)\n",
    "* Keep Learning at thttps://www.arangodb.com/arangodb-training-center/"
   ],
   "metadata": {}
  },
  {
   "cell_type": "markdown",
   "source": [
    "# Further Links"
   ],
   "metadata": {}
  },
  {
   "cell_type": "markdown",
   "source": [
    "* https://www.arangodb.com/docs/stable/aql/tutorial.html"
   ],
   "metadata": {}
  }
 ],
 "metadata": {
  "kernelspec": {
   "display_name": "Python 3",
   "language": "python",
   "name": "python3"
  },
  "language_info": {
   "codemirror_mode": {
    "name": "ipython",
    "version": 3
   },
   "file_extension": ".py",
   "mimetype": "text/x-python",
   "name": "python",
   "nbconvert_exporter": "python",
   "pygments_lexer": "ipython3",
   "version": "3.7.7"
  }
 },
 "nbformat": 4,
 "nbformat_minor": 4
}
